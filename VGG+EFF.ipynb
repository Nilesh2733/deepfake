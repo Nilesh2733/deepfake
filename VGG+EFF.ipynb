{
  "nbformat": 4,
  "nbformat_minor": 0,
  "metadata": {
    "colab": {
      "provenance": [],
      "gpuType": "T4"
    },
    "kernelspec": {
      "name": "python3",
      "display_name": "Python 3"
    },
    "language_info": {
      "name": "python"
    },
    "accelerator": "GPU"
  },
  "cells": [
    {
      "cell_type": "code",
      "execution_count": null,
      "metadata": {
        "colab": {
          "base_uri": "https://localhost:8080/"
        },
        "id": "Jio0lNQCJsOB",
        "outputId": "85356944-9440-464a-d80f-dc5dfacfd102"
      },
      "outputs": [
        {
          "output_type": "stream",
          "name": "stdout",
          "text": [
            "Mounted at /content/drive\n"
          ]
        }
      ],
      "source": [
        "from google.colab import drive\n",
        "drive.mount('/content/drive')"
      ]
    },
    {
      "cell_type": "code",
      "source": [
        "! unzip '/content/drive/MyDrive/Dataset/Dataset.zip'"
      ],
      "metadata": {
        "id": "IwC7nOKkJyLJ"
      },
      "execution_count": null,
      "outputs": []
    },
    {
      "cell_type": "code",
      "source": [
        "import numpy as np\n",
        "import tensorflow as tf\n",
        "from tensorflow.keras.applications import VGG16\n",
        "from tensorflow.keras.layers import Dense, Flatten, Dropout\n",
        "from tensorflow.keras.models import Model\n",
        "from tensorflow.keras.optimizers import Adam\n",
        "from tensorflow.keras.preprocessing.image import ImageDataGenerator\n",
        "\n",
        "# Load dataset\n",
        "train_data_dir = '/content/Dataset/Train'\n",
        "validation_data_dir = '/content/Dataset/Valid'\n",
        "test_data_dir = '/content/Dataset/Test'\n",
        "img_height, img_width = 224, 224\n",
        "batch_size = 32\n",
        "\n",
        "train_datagen = ImageDataGenerator(\n",
        "    rescale=1./255,\n",
        "    rotation_range=20,\n",
        "    width_shift_range=0.2,\n",
        "    height_shift_range=0.2,\n",
        "    shear_range=0.2,\n",
        "    zoom_range=0.2,\n",
        "    horizontal_flip=True,\n",
        "    fill_mode='nearest')\n",
        "\n",
        "test_datagen = ImageDataGenerator(rescale=1./255)\n",
        "\n",
        "train_generator = train_datagen.flow_from_directory(\n",
        "    train_data_dir,\n",
        "    target_size=(img_height, img_width),\n",
        "    batch_size=batch_size,\n",
        "    class_mode='categorical')\n",
        "\n",
        "validation_generator = test_datagen.flow_from_directory(\n",
        "    validation_data_dir,\n",
        "    target_size=(img_height, img_width),\n",
        "    batch_size=batch_size,\n",
        "    class_mode='categorical')\n",
        "\n",
        "# Load pre-trained VGG model without top (fully connected layers)\n",
        "base_model = VGG16(weights='imagenet', include_top=False, input_shape=(img_height, img_width, 3))\n",
        "\n",
        "# Freeze pre-trained layers\n",
        "for layer in base_model.layers:\n",
        "    layer.trainable = False\n",
        "\n",
        "# Add new top layers\n",
        "x = Flatten()(base_model.output)\n",
        "x = Dense(512, activation='relu')(x)\n",
        "x = Dropout(0.5)(x)\n",
        "output = Dense(2, activation='softmax')(x)\n",
        "\n",
        "# Create new model\n",
        "model = Model(inputs=base_model.input, outputs=output)\n",
        "\n",
        "# Compile the model\n",
        "model.compile(optimizer=Adam(lr=0.0001), loss='categorical_crossentropy', metrics=['accuracy'])\n",
        "\n",
        "# Train the model\n",
        "history = model.fit(\n",
        "    train_generator,\n",
        "    steps_per_epoch=train_generator.samples // batch_size,\n",
        "    epochs=10,\n",
        "    validation_data=validation_generator,\n",
        "    validation_steps=validation_generator.samples // batch_size)\n",
        "\n",
        "# Evaluate the model\n",
        "test_generator = test_datagen.flow_from_directory(\n",
        "    test_data_dir,\n",
        "    target_size=(img_height, img_width),\n",
        "    batch_size=batch_size,\n",
        "    class_mode='categorical',\n",
        "    shuffle=False)\n",
        "\n",
        "loss, accuracy = model.evaluate(test_generator)\n",
        "print(\"Test Accuracy:\", accuracy)"
      ],
      "metadata": {
        "colab": {
          "base_uri": "https://localhost:8080/"
        },
        "id": "JRh8RZWGNvZj",
        "outputId": "ae27da7c-b59a-45b3-cbde-40e588c9b491"
      },
      "execution_count": null,
      "outputs": [
        {
          "output_type": "stream",
          "name": "stdout",
          "text": [
            "Found 10002 images belonging to 2 classes.\n",
            "Found 10002 images belonging to 2 classes.\n",
            "Downloading data from https://storage.googleapis.com/tensorflow/keras-applications/vgg16/vgg16_weights_tf_dim_ordering_tf_kernels_notop.h5\n",
            "58889256/58889256 [==============================] - 4s 0us/step\n"
          ]
        },
        {
          "output_type": "stream",
          "name": "stderr",
          "text": [
            "WARNING:absl:`lr` is deprecated in Keras optimizer, please use `learning_rate` or use the legacy optimizer, e.g.,tf.keras.optimizers.legacy.Adam.\n"
          ]
        },
        {
          "output_type": "stream",
          "name": "stdout",
          "text": [
            "Epoch 1/10\n",
            "312/312 [==============================] - 179s 565ms/step - loss: 0.7561 - accuracy: 0.7016 - val_loss: 0.3886 - val_accuracy: 0.8512\n",
            "Epoch 2/10\n",
            "312/312 [==============================] - 180s 577ms/step - loss: 0.5052 - accuracy: 0.7448 - val_loss: 0.3185 - val_accuracy: 0.8686\n",
            "Epoch 3/10\n",
            "312/312 [==============================] - 179s 574ms/step - loss: 0.5001 - accuracy: 0.7523 - val_loss: 0.3178 - val_accuracy: 0.8715\n",
            "Epoch 4/10\n",
            "312/312 [==============================] - 182s 582ms/step - loss: 0.4892 - accuracy: 0.7595 - val_loss: 0.3529 - val_accuracy: 0.8682\n",
            "Epoch 5/10\n",
            "312/312 [==============================] - 181s 581ms/step - loss: 0.4794 - accuracy: 0.7699 - val_loss: 0.3009 - val_accuracy: 0.8728\n",
            "Epoch 6/10\n",
            "312/312 [==============================] - 180s 577ms/step - loss: 0.4867 - accuracy: 0.7588 - val_loss: 0.3147 - val_accuracy: 0.8606\n",
            "Epoch 7/10\n",
            "312/312 [==============================] - 178s 571ms/step - loss: 0.4571 - accuracy: 0.7787 - val_loss: 0.2998 - val_accuracy: 0.8665\n",
            "Epoch 8/10\n",
            "312/312 [==============================] - 176s 564ms/step - loss: 0.4673 - accuracy: 0.7771 - val_loss: 0.3010 - val_accuracy: 0.8781\n",
            "Epoch 9/10\n",
            "312/312 [==============================] - 182s 581ms/step - loss: 0.4620 - accuracy: 0.7749 - val_loss: 0.3122 - val_accuracy: 0.8733\n",
            "Epoch 10/10\n",
            "312/312 [==============================] - 181s 582ms/step - loss: 0.4558 - accuracy: 0.7726 - val_loss: 0.2863 - val_accuracy: 0.8760\n",
            "Found 10002 images belonging to 2 classes.\n",
            "313/313 [==============================] - 38s 122ms/step - loss: 0.5495 - accuracy: 0.7367\n",
            "Test Accuracy: 0.736652672290802\n"
          ]
        }
      ]
    },
    {
      "cell_type": "code",
      "source": [
        "y_pred_prob = model.predict(test_generator)\n",
        "y_pred = np.argmax(y_pred_prob, axis=1)  # Convert probabilities to class labels\n",
        "\n",
        "# Get true labels\n",
        "true_labels = test_generator.classes\n",
        "\n",
        "# Generate classification report\n",
        "class_names = list(test_generator.class_indices.keys())\n",
        "print(\"Classification Report on Test Data:\")\n",
        "print(classification_report(true_labels, y_pred, target_names=class_names,zero_division=0))"
      ],
      "metadata": {
        "colab": {
          "base_uri": "https://localhost:8080/"
        },
        "id": "z3N04iYiU9Vb",
        "outputId": "0a9e795d-65d5-4e9b-e18c-bb3a2255719b"
      },
      "execution_count": null,
      "outputs": [
        {
          "output_type": "stream",
          "name": "stdout",
          "text": [
            "313/313 [==============================] - 38s 121ms/step\n",
            "Classification Report on Test Data:\n",
            "              precision    recall  f1-score   support\n",
            "\n",
            "        Fake       0.79      0.64      0.71      5001\n",
            "        Real       0.70      0.83      0.76      5001\n",
            "\n",
            "    accuracy                           0.74     10002\n",
            "   macro avg       0.74      0.74      0.73     10002\n",
            "weighted avg       0.74      0.74      0.73     10002\n",
            "\n"
          ]
        }
      ]
    },
    {
      "cell_type": "code",
      "source": [
        "from sklearn.metrics import confusion_matrix\n",
        "conf_matrix = confusion_matrix(true_labels, y_pred)\n",
        "print(conf_matrix)\n"
      ],
      "metadata": {
        "colab": {
          "base_uri": "https://localhost:8080/"
        },
        "id": "SMZSn-_aV2ww",
        "outputId": "fa412f8b-fa3a-4aae-be43-4cf5f0e71ddf"
      },
      "execution_count": null,
      "outputs": [
        {
          "output_type": "stream",
          "name": "stdout",
          "text": [
            "[[3223 1778]\n",
            " [ 856 4145]]\n"
          ]
        }
      ]
    },
    {
      "cell_type": "code",
      "source": [
        "from tensorflow.keras.applications import EfficientNetB0"
      ],
      "metadata": {
        "id": "kCu8o8l0XID2"
      },
      "execution_count": null,
      "outputs": []
    },
    {
      "cell_type": "code",
      "source": [
        "# Load pre-trained EfficientNet model\n",
        "base_model_E = EfficientNetB0(weights='imagenet', include_top=False, input_shape=(img_height, img_width, 3))\n",
        "\n",
        "# Freeze pre-trained layers\n",
        "for layer in base_model.layers:\n",
        "    layer.trainable = False\n",
        "\n",
        "# Add new top layers\n",
        "x = Flatten()(base_model_E.output)\n",
        "x = Dense(512, activation='relu')(x)\n",
        "x = Dropout(0.5)(x)\n",
        "output = Dense(2, activation='softmax')(x)\n",
        "\n",
        "# Create new model\n",
        "model_E = Model(inputs=base_model_E.input, outputs=output)\n",
        "\n",
        "# Compile the model\n",
        "model_E.compile(optimizer=Adam(lr=0.0001), loss='categorical_crossentropy', metrics=['accuracy'])\n",
        "\n",
        "# Train the model\n",
        "history = model_E.fit(\n",
        "    train_generator,\n",
        "    steps_per_epoch=train_generator.samples // batch_size,\n",
        "    epochs=10,\n",
        "    validation_data=validation_generator,\n",
        "    validation_steps=validation_generator.samples // batch_size)\n",
        "\n",
        "# Evaluate the model\n",
        "test_generator = test_datagen.flow_from_directory(\n",
        "    test_data_dir,\n",
        "    target_size=(img_height, img_width),\n",
        "    batch_size=batch_size,\n",
        "    class_mode='categorical',\n",
        "    shuffle=False)\n",
        "\n",
        "loss, accuracy = model_E.evaluate(test_generator)\n",
        "print(\"Test Accuracy:\", accuracy)"
      ],
      "metadata": {
        "colab": {
          "base_uri": "https://localhost:8080/"
        },
        "id": "9BDNGjDhXJvs",
        "outputId": "437798f9-70ce-4761-b005-4338f6f4211b"
      },
      "execution_count": null,
      "outputs": [
        {
          "output_type": "stream",
          "name": "stdout",
          "text": [
            "Downloading data from https://storage.googleapis.com/keras-applications/efficientnetb0_notop.h5\n",
            "16705208/16705208 [==============================] - 2s 0us/step\n"
          ]
        },
        {
          "output_type": "stream",
          "name": "stderr",
          "text": [
            "WARNING:absl:`lr` is deprecated in Keras optimizer, please use `learning_rate` or use the legacy optimizer, e.g.,tf.keras.optimizers.legacy.Adam.\n"
          ]
        },
        {
          "output_type": "stream",
          "name": "stdout",
          "text": [
            "Epoch 1/10\n",
            "312/312 [==============================] - 221s 587ms/step - loss: 0.5595 - accuracy: 0.8473 - val_loss: 1.0800 - val_accuracy: 0.5499\n",
            "Epoch 2/10\n",
            "312/312 [==============================] - 193s 617ms/step - loss: 0.2219 - accuracy: 0.9194 - val_loss: 0.6053 - val_accuracy: 0.6840\n",
            "Epoch 3/10\n",
            "312/312 [==============================] - 179s 572ms/step - loss: 0.1724 - accuracy: 0.9397 - val_loss: 0.7545 - val_accuracy: 0.4995\n",
            "Epoch 4/10\n",
            "312/312 [==============================] - 181s 578ms/step - loss: 0.1494 - accuracy: 0.9492 - val_loss: 0.8003 - val_accuracy: 0.5318\n",
            "Epoch 5/10\n",
            "312/312 [==============================] - 179s 574ms/step - loss: 0.1705 - accuracy: 0.9456 - val_loss: 2.6013 - val_accuracy: 0.5063\n",
            "Epoch 6/10\n",
            "312/312 [==============================] - 177s 566ms/step - loss: 0.1404 - accuracy: 0.9538 - val_loss: 1.0567 - val_accuracy: 0.4995\n",
            "Epoch 7/10\n",
            "312/312 [==============================] - 178s 569ms/step - loss: 0.1200 - accuracy: 0.9593 - val_loss: 73.7901 - val_accuracy: 0.5005\n",
            "Epoch 8/10\n",
            "312/312 [==============================] - 177s 568ms/step - loss: 0.1437 - accuracy: 0.9530 - val_loss: 0.6981 - val_accuracy: 0.5028\n",
            "Epoch 9/10\n",
            "312/312 [==============================] - 178s 569ms/step - loss: 0.1113 - accuracy: 0.9637 - val_loss: 0.7288 - val_accuracy: 0.4999\n",
            "Epoch 10/10\n",
            "312/312 [==============================] - 177s 567ms/step - loss: 0.1341 - accuracy: 0.9574 - val_loss: 0.5453 - val_accuracy: 0.7256\n",
            "Found 10002 images belonging to 2 classes.\n",
            "313/313 [==============================] - 26s 81ms/step - loss: 0.6309 - accuracy: 0.6203\n",
            "Test Accuracy: 0.6202759742736816\n"
          ]
        }
      ]
    },
    {
      "cell_type": "code",
      "source": [
        "y_pred_prob = model_E.predict(test_generator)\n",
        "y_pred = np.argmax(y_pred_prob, axis=1)  # Convert probabilities to class labels\n",
        "\n",
        "# Get true labels\n",
        "true_labels = test_generator.classes\n",
        "\n",
        "# Generate classification report\n",
        "class_names = list(test_generator.class_indices.keys())\n",
        "print(\"Classification Report on Test Data:\")\n",
        "print(classification_report(true_labels, y_pred, target_names=class_names,zero_division=0))"
      ],
      "metadata": {
        "colab": {
          "base_uri": "https://localhost:8080/"
        },
        "id": "DN5LnG4GY8h3",
        "outputId": "6296fdea-6311-4fb0-e623-7992f09050ad"
      },
      "execution_count": null,
      "outputs": [
        {
          "output_type": "stream",
          "name": "stdout",
          "text": [
            "313/313 [==============================] - 21s 64ms/step\n",
            "Classification Report on Test Data:\n",
            "              precision    recall  f1-score   support\n",
            "\n",
            "        Fake       0.69      0.44      0.54      5001\n",
            "        Real       0.59      0.80      0.68      5001\n",
            "\n",
            "    accuracy                           0.62     10002\n",
            "   macro avg       0.64      0.62      0.61     10002\n",
            "weighted avg       0.64      0.62      0.61     10002\n",
            "\n"
          ]
        }
      ]
    },
    {
      "cell_type": "code",
      "source": [
        "conf_matrix = confusion_matrix(true_labels, y_pred)\n",
        "print(conf_matrix)"
      ],
      "metadata": {
        "colab": {
          "base_uri": "https://localhost:8080/"
        },
        "id": "v8KxGrREZFyj",
        "outputId": "ab86587b-965e-42ba-a7e5-dfd151b79002"
      },
      "execution_count": null,
      "outputs": [
        {
          "output_type": "stream",
          "name": "stdout",
          "text": [
            "[[2202 2799]\n",
            " [ 999 4002]]\n"
          ]
        }
      ]
    },
    {
      "cell_type": "code",
      "source": [
        "model.save('vgg.h5')\n",
        "model_E.save('eff.h5')"
      ],
      "metadata": {
        "colab": {
          "base_uri": "https://localhost:8080/"
        },
        "id": "3l8BVl_5foER",
        "outputId": "277fcd4a-893c-42ff-dbb0-b0635093fa04"
      },
      "execution_count": null,
      "outputs": [
        {
          "output_type": "stream",
          "name": "stderr",
          "text": [
            "/usr/local/lib/python3.10/dist-packages/keras/src/engine/training.py:3103: UserWarning: You are saving your model as an HDF5 file via `model.save()`. This file format is considered legacy. We recommend using instead the native Keras format, e.g. `model.save('my_model.keras')`.\n",
            "  saving_api.save_model(\n"
          ]
        }
      ]
    }
  ]
}