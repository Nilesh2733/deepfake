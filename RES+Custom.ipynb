{
  "nbformat": 4,
  "nbformat_minor": 0,
  "metadata": {
    "colab": {
      "provenance": [],
      "gpuType": "T4"
    },
    "kernelspec": {
      "name": "python3",
      "display_name": "Python 3"
    },
    "language_info": {
      "name": "python"
    },
    "accelerator": "GPU"
  },
  "cells": [
    {
      "cell_type": "code",
      "execution_count": null,
      "metadata": {
        "colab": {
          "base_uri": "https://localhost:8080/"
        },
        "id": "n9JpvIZ7YZCf",
        "outputId": "6cbff67b-c029-487d-d79f-180c59d0c4e7"
      },
      "outputs": [
        {
          "output_type": "stream",
          "name": "stdout",
          "text": [
            "Mounted at /content/drive\n"
          ]
        }
      ],
      "source": [
        "from google.colab import drive\n",
        "drive.mount('/content/drive')"
      ]
    },
    {
      "cell_type": "code",
      "source": [
        "! unzip '/content/drive/MyDrive/Dataset/Dataset.zip'"
      ],
      "metadata": {
        "id": "51c52jyoZqS7"
      },
      "execution_count": null,
      "outputs": []
    },
    {
      "cell_type": "code",
      "source": [
        "import numpy as np\n",
        "import tensorflow as tf\n",
        "from tensorflow.keras.applications import ResNet50\n",
        "from tensorflow.keras.layers import Dense, Flatten, Dropout\n",
        "from tensorflow.keras.models import Model\n",
        "from tensorflow.keras.optimizers import Adam\n",
        "from tensorflow.keras.preprocessing.image import ImageDataGenerator\n"
      ],
      "metadata": {
        "id": "d_Zl3hSPZ47Z"
      },
      "execution_count": null,
      "outputs": []
    },
    {
      "cell_type": "code",
      "source": [
        "# Load dataset\n",
        "train_data_dir = '/content/Dataset/Train'\n",
        "validation_data_dir = '/content/Dataset/Valid'\n",
        "test_data_dir = '/content/Dataset/Test'\n",
        "img_height, img_width = 224, 224\n",
        "batch_size = 32\n",
        "\n",
        "train_datagen = ImageDataGenerator(\n",
        "    rescale=1./255,\n",
        "    rotation_range=20,\n",
        "    width_shift_range=0.2,\n",
        "    height_shift_range=0.2,\n",
        "    shear_range=0.2,\n",
        "    zoom_range=0.2,\n",
        "    horizontal_flip=True,\n",
        "    fill_mode='nearest')\n",
        "\n",
        "test_datagen = ImageDataGenerator(rescale=1./255)\n",
        "\n",
        "train_generator = train_datagen.flow_from_directory(\n",
        "    train_data_dir,\n",
        "    target_size=(img_height, img_width),\n",
        "    batch_size=batch_size,\n",
        "    class_mode='categorical')\n",
        "\n",
        "validation_generator = test_datagen.flow_from_directory(\n",
        "    validation_data_dir,\n",
        "    target_size=(img_height, img_width),\n",
        "    batch_size=batch_size,\n",
        "    class_mode='categorical')\n"
      ],
      "metadata": {
        "colab": {
          "base_uri": "https://localhost:8080/"
        },
        "id": "PnPLzTNtZ-TK",
        "outputId": "2da4775e-dcf5-48a0-e25c-8cab3b0faa04"
      },
      "execution_count": null,
      "outputs": [
        {
          "output_type": "stream",
          "name": "stdout",
          "text": [
            "Found 10002 images belonging to 2 classes.\n",
            "Found 10002 images belonging to 2 classes.\n"
          ]
        }
      ]
    },
    {
      "cell_type": "code",
      "source": [
        "# Load pre-trained ResNet50 model\n",
        "base_model = ResNet50(weights='imagenet', include_top=False, input_shape=(img_height, img_width, 3))\n",
        "\n",
        "# Freeze base model layers\n",
        "for layer in base_model.layers:\n",
        "    layer.trainable = False\n",
        "\n",
        "# Add custom classification head\n",
        "x = base_model.output\n",
        "x = Flatten()(x)\n",
        "x = Dense(512, activation='relu')(x)\n",
        "x = Dropout(0.5)(x)\n",
        "predictions = Dense(2, activation='softmax')(x)\n",
        "\n",
        "# Create model\n",
        "model = Model(inputs=base_model.input, outputs=predictions)\n",
        "\n",
        "# Compile model\n",
        "model.compile(optimizer=Adam(lr=0.0001), loss='categorical_crossentropy', metrics=['accuracy'])\n",
        "\n",
        "# Train model\n",
        "history = model.fit(\n",
        "    train_generator,\n",
        "    steps_per_epoch=train_generator.samples // batch_size,\n",
        "    epochs=10,\n",
        "    validation_data=validation_generator,\n",
        "    validation_steps=validation_generator.samples // batch_size\n",
        ")\n",
        "\n",
        "# Evaluate the model\n",
        "test_generator = test_datagen.flow_from_directory(\n",
        "    test_data_dir,\n",
        "    target_size=(img_height, img_width),\n",
        "    batch_size=batch_size,\n",
        "    class_mode='categorical',\n",
        "    shuffle=False)\n",
        "\n",
        "loss, accuracy = model.evaluate(test_generator)\n",
        "print(\"Test Accuracy:\", accuracy)"
      ],
      "metadata": {
        "colab": {
          "base_uri": "https://localhost:8080/"
        },
        "id": "ZWP1xYEeaBIo",
        "outputId": "ab31cdad-35aa-4849-b8eb-b92a09b71e68"
      },
      "execution_count": null,
      "outputs": [
        {
          "output_type": "stream",
          "name": "stdout",
          "text": [
            "Downloading data from https://storage.googleapis.com/tensorflow/keras-applications/resnet/resnet50_weights_tf_dim_ordering_tf_kernels_notop.h5\n",
            "94765736/94765736 [==============================] - 3s 0us/step\n"
          ]
        },
        {
          "output_type": "stream",
          "name": "stderr",
          "text": [
            "WARNING:absl:`lr` is deprecated in Keras optimizer, please use `learning_rate` or use the legacy optimizer, e.g.,tf.keras.optimizers.legacy.Adam.\n"
          ]
        },
        {
          "output_type": "stream",
          "name": "stdout",
          "text": [
            "Epoch 1/10\n",
            "312/312 [==============================] - 194s 594ms/step - loss: 1.3737 - accuracy: 0.5002 - val_loss: 0.6931 - val_accuracy: 0.5012\n",
            "Epoch 2/10\n",
            "312/312 [==============================] - 176s 566ms/step - loss: 0.6961 - accuracy: 0.5041 - val_loss: 0.6932 - val_accuracy: 0.5005\n",
            "Epoch 3/10\n",
            "312/312 [==============================] - 182s 584ms/step - loss: 0.6990 - accuracy: 0.4968 - val_loss: 0.6931 - val_accuracy: 0.5004\n",
            "Epoch 4/10\n",
            "312/312 [==============================] - 176s 563ms/step - loss: 0.6968 - accuracy: 0.5020 - val_loss: 0.6923 - val_accuracy: 0.5532\n",
            "Epoch 5/10\n",
            "312/312 [==============================] - 174s 559ms/step - loss: 0.6957 - accuracy: 0.4981 - val_loss: 0.6931 - val_accuracy: 0.4997\n",
            "Epoch 6/10\n",
            "312/312 [==============================] - 182s 582ms/step - loss: 0.6947 - accuracy: 0.4994 - val_loss: 0.6931 - val_accuracy: 0.4997\n",
            "Epoch 7/10\n",
            "312/312 [==============================] - 183s 585ms/step - loss: 0.7032 - accuracy: 0.4955 - val_loss: 0.6931 - val_accuracy: 0.5004\n",
            "Epoch 8/10\n",
            "312/312 [==============================] - 182s 583ms/step - loss: 0.6961 - accuracy: 0.5013 - val_loss: 0.6931 - val_accuracy: 0.5000\n",
            "Epoch 9/10\n",
            "312/312 [==============================] - 181s 581ms/step - loss: 0.6932 - accuracy: 0.4962 - val_loss: 0.6931 - val_accuracy: 0.5000\n",
            "Epoch 10/10\n",
            "312/312 [==============================] - 182s 583ms/step - loss: 0.6932 - accuracy: 0.4994 - val_loss: 0.6931 - val_accuracy: 0.5011\n",
            "Found 10002 images belonging to 2 classes.\n",
            "313/313 [==============================] - 34s 108ms/step - loss: 0.6931 - accuracy: 0.5003\n",
            "Test Accuracy: 0.5002999305725098\n"
          ]
        }
      ]
    },
    {
      "cell_type": "code",
      "source": [
        "from sklearn.metrics import classification_report\n",
        "y_pred_prob = model.predict(test_generator)\n",
        "y_pred = np.argmax(y_pred_prob, axis=1)  # Convert probabilities to class labels\n",
        "\n",
        "# Get true labels\n",
        "true_labels = test_generator.classes\n",
        "\n",
        "# Generate classification report\n",
        "class_names = list(test_generator.class_indices.keys())\n",
        "print(\"Classification Report on Test Data:\")\n",
        "print(classification_report(true_labels, y_pred, target_names=class_names,zero_division=0))"
      ],
      "metadata": {
        "colab": {
          "base_uri": "https://localhost:8080/"
        },
        "id": "DghRjQ6ngLV6",
        "outputId": "95ea5eb4-0f7d-4154-8abf-2796efcef973"
      },
      "execution_count": null,
      "outputs": [
        {
          "output_type": "stream",
          "name": "stdout",
          "text": [
            "313/313 [==============================] - 39s 121ms/step\n",
            "Classification Report on Test Data:\n",
            "              precision    recall  f1-score   support\n",
            "\n",
            "        Fake       0.50      1.00      0.67      5001\n",
            "        Real       0.64      0.00      0.00      5001\n",
            "\n",
            "    accuracy                           0.50     10002\n",
            "   macro avg       0.57      0.50      0.33     10002\n",
            "weighted avg       0.57      0.50      0.33     10002\n",
            "\n"
          ]
        }
      ]
    },
    {
      "cell_type": "code",
      "source": [
        "from sklearn.metrics import confusion_matrix\n",
        "conf_matrix = confusion_matrix(true_labels, y_pred)\n",
        "print(conf_matrix)\n"
      ],
      "metadata": {
        "colab": {
          "base_uri": "https://localhost:8080/"
        },
        "id": "hzw_rontgOCZ",
        "outputId": "ecc59b5d-05e3-46e7-daf2-f7e9cc5d673f"
      },
      "execution_count": null,
      "outputs": [
        {
          "output_type": "stream",
          "name": "stdout",
          "text": [
            "[[4997    4]\n",
            " [4994    7]]\n"
          ]
        }
      ]
    },
    {
      "cell_type": "code",
      "source": [
        "import os\n",
        "import numpy as np\n",
        "import tensorflow as tf\n",
        "from tensorflow.keras.preprocessing.image import ImageDataGenerator\n",
        "from tensorflow.keras.models import Sequential\n",
        "from tensorflow.keras.layers import Conv2D, MaxPooling2D, Flatten, Dense\n",
        "\n",
        "model_c = Sequential([\n",
        "    Conv2D(32, (3, 3), activation='relu', input_shape=(img_width, img_height, 3)),\n",
        "    MaxPooling2D((2, 2)),\n",
        "    Conv2D(64, (3, 3), activation='relu'),\n",
        "    MaxPooling2D((2, 2)),\n",
        "    Conv2D(128, (3, 3), activation='relu'),\n",
        "    MaxPooling2D((2, 2)),\n",
        "    Flatten(),\n",
        "    Dense(128, activation='relu'),\n",
        "    Dense(2, activation='softmax')\n",
        "])\n",
        "\n",
        "# Compile the model\n",
        "model_c.compile(optimizer='adam',\n",
        "              loss='categorical_crossentropy',\n",
        "              metrics=['accuracy'])\n",
        "\n",
        "history = model_c.fit(train_generator,\n",
        "                              steps_per_epoch=train_generator.samples // batch_size,\n",
        "                              epochs=10,\n",
        "                              validation_data=validation_generator,\n",
        "                              validation_steps=validation_generator.samples // batch_size)\n",
        "\n",
        "# Evaluate the model\n",
        "test_generator = test_datagen.flow_from_directory(\n",
        "    test_data_dir,\n",
        "    target_size=(img_height, img_width),\n",
        "    batch_size=batch_size,\n",
        "    class_mode='categorical',\n",
        "    shuffle=False)\n",
        "\n",
        "loss, accuracy = model_c.evaluate(test_generator)\n",
        "print(\"Test Accuracy:\", accuracy)"
      ],
      "metadata": {
        "colab": {
          "base_uri": "https://localhost:8080/"
        },
        "id": "tQiW1dSLlOTq",
        "outputId": "1ad1abb1-b28c-464a-b506-8770d5e9c02e"
      },
      "execution_count": null,
      "outputs": [
        {
          "output_type": "stream",
          "name": "stdout",
          "text": [
            "Epoch 1/10\n",
            "312/312 [==============================] - 161s 500ms/step - loss: 0.7134 - accuracy: 0.5410 - val_loss: 0.6128 - val_accuracy: 0.6762\n",
            "Epoch 2/10\n",
            "312/312 [==============================] - 150s 480ms/step - loss: 0.6567 - accuracy: 0.6130 - val_loss: 0.6169 - val_accuracy: 0.6325\n",
            "Epoch 3/10\n",
            "312/312 [==============================] - 156s 499ms/step - loss: 0.6343 - accuracy: 0.6470 - val_loss: 0.5974 - val_accuracy: 0.7028\n",
            "Epoch 4/10\n",
            "312/312 [==============================] - 149s 479ms/step - loss: 0.6131 - accuracy: 0.6678 - val_loss: 0.5006 - val_accuracy: 0.7603\n",
            "Epoch 5/10\n",
            "312/312 [==============================] - 156s 500ms/step - loss: 0.5943 - accuracy: 0.6845 - val_loss: 0.5346 - val_accuracy: 0.7463\n",
            "Epoch 6/10\n",
            "312/312 [==============================] - 151s 486ms/step - loss: 0.5751 - accuracy: 0.7027 - val_loss: 0.5151 - val_accuracy: 0.7636\n",
            "Epoch 7/10\n",
            "312/312 [==============================] - 156s 499ms/step - loss: 0.5662 - accuracy: 0.7055 - val_loss: 0.4794 - val_accuracy: 0.7898\n",
            "Epoch 8/10\n",
            "312/312 [==============================] - 154s 493ms/step - loss: 0.5511 - accuracy: 0.7183 - val_loss: 0.4614 - val_accuracy: 0.7933\n",
            "Epoch 9/10\n",
            "312/312 [==============================] - 151s 483ms/step - loss: 0.5516 - accuracy: 0.7218 - val_loss: 0.4818 - val_accuracy: 0.7718\n",
            "Epoch 10/10\n",
            "312/312 [==============================] - 152s 489ms/step - loss: 0.5386 - accuracy: 0.7306 - val_loss: 0.4620 - val_accuracy: 0.7804\n",
            "Found 10002 images belonging to 2 classes.\n",
            "313/313 [==============================] - 19s 59ms/step - loss: 0.6066 - accuracy: 0.6619\n",
            "Test Accuracy: 0.661867618560791\n"
          ]
        }
      ]
    },
    {
      "cell_type": "code",
      "source": [
        "y_pred_prob = model_c.predict(test_generator)\n",
        "y_pred = np.argmax(y_pred_prob, axis=1)  # Convert probabilities to class labels\n",
        "\n",
        "# Get true labels\n",
        "true_labels = test_generator.classes\n",
        "\n",
        "# Generate classification report\n",
        "class_names = list(test_generator.class_indices.keys())\n",
        "print(\"Classification Report on Test Data:\")\n",
        "print(classification_report(true_labels, y_pred, target_names=class_names,zero_division=0))"
      ],
      "metadata": {
        "colab": {
          "base_uri": "https://localhost:8080/"
        },
        "id": "34HgZkCds-jK",
        "outputId": "423d552a-13cc-490b-d966-1998c2b46420"
      },
      "execution_count": null,
      "outputs": [
        {
          "output_type": "stream",
          "name": "stdout",
          "text": [
            "313/313 [==============================] - 20s 62ms/step\n",
            "Classification Report on Test Data:\n",
            "              precision    recall  f1-score   support\n",
            "\n",
            "        Fake       0.70      0.57      0.63      5001\n",
            "        Real       0.64      0.75      0.69      5001\n",
            "\n",
            "    accuracy                           0.66     10002\n",
            "   macro avg       0.67      0.66      0.66     10002\n",
            "weighted avg       0.67      0.66      0.66     10002\n",
            "\n"
          ]
        }
      ]
    },
    {
      "cell_type": "code",
      "source": [
        "from sklearn.metrics import confusion_matrix\n",
        "conf_matrix = confusion_matrix(true_labels, y_pred)\n",
        "print(conf_matrix)"
      ],
      "metadata": {
        "colab": {
          "base_uri": "https://localhost:8080/"
        },
        "id": "wkyGthXKuNay",
        "outputId": "d4613d74-4120-4d47-ff23-fc9eb5f763ec"
      },
      "execution_count": null,
      "outputs": [
        {
          "output_type": "stream",
          "name": "stdout",
          "text": [
            "[[2859 2142]\n",
            " [1240 3761]]\n"
          ]
        }
      ]
    },
    {
      "cell_type": "code",
      "source": [
        "model_c.save('cust.h5')"
      ],
      "metadata": {
        "colab": {
          "base_uri": "https://localhost:8080/"
        },
        "id": "blTy_GV8vEe4",
        "outputId": "205dcf6f-e109-4bc7-ed51-9bd183b52345"
      },
      "execution_count": null,
      "outputs": [
        {
          "output_type": "stream",
          "name": "stderr",
          "text": [
            "/usr/local/lib/python3.10/dist-packages/keras/src/engine/training.py:3103: UserWarning: You are saving your model as an HDF5 file via `model.save()`. This file format is considered legacy. We recommend using instead the native Keras format, e.g. `model.save('my_model.keras')`.\n",
            "  saving_api.save_model(\n"
          ]
        }
      ]
    },
    {
      "cell_type": "code",
      "source": [],
      "metadata": {
        "id": "sCYo_IyXvKUr"
      },
      "execution_count": null,
      "outputs": []
    }
  ]
}